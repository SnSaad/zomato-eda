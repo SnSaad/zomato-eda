{
 "cells": [
  {
   "cell_type": "code",
   "execution_count": 1,
   "id": "8d63647b",
   "metadata": {},
   "outputs": [],
   "source": [
    "import pandas as pd\n",
    "import numpy as np\n",
    "import seaborn as sns\n",
    "import matplotlib.pyplot as plt"
   ]
  },
  {
   "cell_type": "code",
   "execution_count": 2,
   "id": "d9870f8c",
   "metadata": {},
   "outputs": [],
   "source": [
    "df1 = pd.read_csv('zomato.csv')"
   ]
  },
  {
   "cell_type": "code",
   "execution_count": 3,
   "id": "2e43bda5",
   "metadata": {},
   "outputs": [],
   "source": [
    "df = pd.read_csv('zomato.csv')"
   ]
  },
  {
   "cell_type": "code",
   "execution_count": 4,
   "id": "4673a5d1",
   "metadata": {},
   "outputs": [
    {
     "data": {
      "text/html": [
       "<div>\n",
       "<style scoped>\n",
       "    .dataframe tbody tr th:only-of-type {\n",
       "        vertical-align: middle;\n",
       "    }\n",
       "\n",
       "    .dataframe tbody tr th {\n",
       "        vertical-align: top;\n",
       "    }\n",
       "\n",
       "    .dataframe thead th {\n",
       "        text-align: right;\n",
       "    }\n",
       "</style>\n",
       "<table border=\"1\" class=\"dataframe\">\n",
       "  <thead>\n",
       "    <tr style=\"text-align: right;\">\n",
       "      <th></th>\n",
       "      <th>url</th>\n",
       "      <th>address</th>\n",
       "      <th>name</th>\n",
       "      <th>online_order</th>\n",
       "      <th>book_table</th>\n",
       "      <th>rate</th>\n",
       "      <th>votes</th>\n",
       "      <th>phone</th>\n",
       "      <th>location</th>\n",
       "      <th>rest_type</th>\n",
       "      <th>dish_liked</th>\n",
       "      <th>cuisines</th>\n",
       "      <th>approx_cost(for two people)</th>\n",
       "      <th>reviews_list</th>\n",
       "      <th>menu_item</th>\n",
       "      <th>listed_in(type)</th>\n",
       "      <th>listed_in(city)</th>\n",
       "    </tr>\n",
       "  </thead>\n",
       "  <tbody>\n",
       "    <tr>\n",
       "      <th>0</th>\n",
       "      <td>https://www.zomato.com/bangalore/jalsa-banasha...</td>\n",
       "      <td>942, 21st Main Road, 2nd Stage, Banashankari, ...</td>\n",
       "      <td>Jalsa</td>\n",
       "      <td>Yes</td>\n",
       "      <td>Yes</td>\n",
       "      <td>4.1/5</td>\n",
       "      <td>775</td>\n",
       "      <td>080 42297555\\r\\n+91 9743772233</td>\n",
       "      <td>Banashankari</td>\n",
       "      <td>Casual Dining</td>\n",
       "      <td>Pasta, Lunch Buffet, Masala Papad, Paneer Laja...</td>\n",
       "      <td>North Indian, Mughlai, Chinese</td>\n",
       "      <td>800</td>\n",
       "      <td>[('Rated 4.0', 'RATED\\n  A beautiful place to ...</td>\n",
       "      <td>[]</td>\n",
       "      <td>Buffet</td>\n",
       "      <td>Banashankari</td>\n",
       "    </tr>\n",
       "    <tr>\n",
       "      <th>1</th>\n",
       "      <td>https://www.zomato.com/bangalore/spice-elephan...</td>\n",
       "      <td>2nd Floor, 80 Feet Road, Near Big Bazaar, 6th ...</td>\n",
       "      <td>Spice Elephant</td>\n",
       "      <td>Yes</td>\n",
       "      <td>No</td>\n",
       "      <td>4.1/5</td>\n",
       "      <td>787</td>\n",
       "      <td>080 41714161</td>\n",
       "      <td>Banashankari</td>\n",
       "      <td>Casual Dining</td>\n",
       "      <td>Momos, Lunch Buffet, Chocolate Nirvana, Thai G...</td>\n",
       "      <td>Chinese, North Indian, Thai</td>\n",
       "      <td>800</td>\n",
       "      <td>[('Rated 4.0', 'RATED\\n  Had been here for din...</td>\n",
       "      <td>[]</td>\n",
       "      <td>Buffet</td>\n",
       "      <td>Banashankari</td>\n",
       "    </tr>\n",
       "    <tr>\n",
       "      <th>2</th>\n",
       "      <td>https://www.zomato.com/SanchurroBangalore?cont...</td>\n",
       "      <td>1112, Next to KIMS Medical College, 17th Cross...</td>\n",
       "      <td>San Churro Cafe</td>\n",
       "      <td>Yes</td>\n",
       "      <td>No</td>\n",
       "      <td>3.8/5</td>\n",
       "      <td>918</td>\n",
       "      <td>+91 9663487993</td>\n",
       "      <td>Banashankari</td>\n",
       "      <td>Cafe, Casual Dining</td>\n",
       "      <td>Churros, Cannelloni, Minestrone Soup, Hot Choc...</td>\n",
       "      <td>Cafe, Mexican, Italian</td>\n",
       "      <td>800</td>\n",
       "      <td>[('Rated 3.0', \"RATED\\n  Ambience is not that ...</td>\n",
       "      <td>[]</td>\n",
       "      <td>Buffet</td>\n",
       "      <td>Banashankari</td>\n",
       "    </tr>\n",
       "    <tr>\n",
       "      <th>3</th>\n",
       "      <td>https://www.zomato.com/bangalore/addhuri-udupi...</td>\n",
       "      <td>1st Floor, Annakuteera, 3rd Stage, Banashankar...</td>\n",
       "      <td>Addhuri Udupi Bhojana</td>\n",
       "      <td>No</td>\n",
       "      <td>No</td>\n",
       "      <td>3.7/5</td>\n",
       "      <td>88</td>\n",
       "      <td>+91 9620009302</td>\n",
       "      <td>Banashankari</td>\n",
       "      <td>Quick Bites</td>\n",
       "      <td>Masala Dosa</td>\n",
       "      <td>South Indian, North Indian</td>\n",
       "      <td>300</td>\n",
       "      <td>[('Rated 4.0', \"RATED\\n  Great food and proper...</td>\n",
       "      <td>[]</td>\n",
       "      <td>Buffet</td>\n",
       "      <td>Banashankari</td>\n",
       "    </tr>\n",
       "    <tr>\n",
       "      <th>4</th>\n",
       "      <td>https://www.zomato.com/bangalore/grand-village...</td>\n",
       "      <td>10, 3rd Floor, Lakshmi Associates, Gandhi Baza...</td>\n",
       "      <td>Grand Village</td>\n",
       "      <td>No</td>\n",
       "      <td>No</td>\n",
       "      <td>3.8/5</td>\n",
       "      <td>166</td>\n",
       "      <td>+91 8026612447\\r\\n+91 9901210005</td>\n",
       "      <td>Basavanagudi</td>\n",
       "      <td>Casual Dining</td>\n",
       "      <td>Panipuri, Gol Gappe</td>\n",
       "      <td>North Indian, Rajasthani</td>\n",
       "      <td>600</td>\n",
       "      <td>[('Rated 4.0', 'RATED\\n  Very good restaurant ...</td>\n",
       "      <td>[]</td>\n",
       "      <td>Buffet</td>\n",
       "      <td>Banashankari</td>\n",
       "    </tr>\n",
       "  </tbody>\n",
       "</table>\n",
       "</div>"
      ],
      "text/plain": [
       "                                                 url  \\\n",
       "0  https://www.zomato.com/bangalore/jalsa-banasha...   \n",
       "1  https://www.zomato.com/bangalore/spice-elephan...   \n",
       "2  https://www.zomato.com/SanchurroBangalore?cont...   \n",
       "3  https://www.zomato.com/bangalore/addhuri-udupi...   \n",
       "4  https://www.zomato.com/bangalore/grand-village...   \n",
       "\n",
       "                                             address                   name  \\\n",
       "0  942, 21st Main Road, 2nd Stage, Banashankari, ...                  Jalsa   \n",
       "1  2nd Floor, 80 Feet Road, Near Big Bazaar, 6th ...         Spice Elephant   \n",
       "2  1112, Next to KIMS Medical College, 17th Cross...        San Churro Cafe   \n",
       "3  1st Floor, Annakuteera, 3rd Stage, Banashankar...  Addhuri Udupi Bhojana   \n",
       "4  10, 3rd Floor, Lakshmi Associates, Gandhi Baza...          Grand Village   \n",
       "\n",
       "  online_order book_table   rate  votes                             phone  \\\n",
       "0          Yes        Yes  4.1/5    775    080 42297555\\r\\n+91 9743772233   \n",
       "1          Yes         No  4.1/5    787                      080 41714161   \n",
       "2          Yes         No  3.8/5    918                    +91 9663487993   \n",
       "3           No         No  3.7/5     88                    +91 9620009302   \n",
       "4           No         No  3.8/5    166  +91 8026612447\\r\\n+91 9901210005   \n",
       "\n",
       "       location            rest_type  \\\n",
       "0  Banashankari        Casual Dining   \n",
       "1  Banashankari        Casual Dining   \n",
       "2  Banashankari  Cafe, Casual Dining   \n",
       "3  Banashankari          Quick Bites   \n",
       "4  Basavanagudi        Casual Dining   \n",
       "\n",
       "                                          dish_liked  \\\n",
       "0  Pasta, Lunch Buffet, Masala Papad, Paneer Laja...   \n",
       "1  Momos, Lunch Buffet, Chocolate Nirvana, Thai G...   \n",
       "2  Churros, Cannelloni, Minestrone Soup, Hot Choc...   \n",
       "3                                        Masala Dosa   \n",
       "4                                Panipuri, Gol Gappe   \n",
       "\n",
       "                         cuisines approx_cost(for two people)  \\\n",
       "0  North Indian, Mughlai, Chinese                         800   \n",
       "1     Chinese, North Indian, Thai                         800   \n",
       "2          Cafe, Mexican, Italian                         800   \n",
       "3      South Indian, North Indian                         300   \n",
       "4        North Indian, Rajasthani                         600   \n",
       "\n",
       "                                        reviews_list menu_item  \\\n",
       "0  [('Rated 4.0', 'RATED\\n  A beautiful place to ...        []   \n",
       "1  [('Rated 4.0', 'RATED\\n  Had been here for din...        []   \n",
       "2  [('Rated 3.0', \"RATED\\n  Ambience is not that ...        []   \n",
       "3  [('Rated 4.0', \"RATED\\n  Great food and proper...        []   \n",
       "4  [('Rated 4.0', 'RATED\\n  Very good restaurant ...        []   \n",
       "\n",
       "  listed_in(type) listed_in(city)  \n",
       "0          Buffet    Banashankari  \n",
       "1          Buffet    Banashankari  \n",
       "2          Buffet    Banashankari  \n",
       "3          Buffet    Banashankari  \n",
       "4          Buffet    Banashankari  "
      ]
     },
     "execution_count": 4,
     "metadata": {},
     "output_type": "execute_result"
    }
   ],
   "source": [
    "df.head()"
   ]
  },
  {
   "cell_type": "code",
   "execution_count": 5,
   "id": "69ec1a49",
   "metadata": {},
   "outputs": [
    {
     "name": "stdout",
     "output_type": "stream",
     "text": [
      "<class 'pandas.core.frame.DataFrame'>\n",
      "RangeIndex: 51717 entries, 0 to 51716\n",
      "Data columns (total 17 columns):\n",
      " #   Column                       Non-Null Count  Dtype \n",
      "---  ------                       --------------  ----- \n",
      " 0   url                          51717 non-null  object\n",
      " 1   address                      51717 non-null  object\n",
      " 2   name                         51717 non-null  object\n",
      " 3   online_order                 51717 non-null  object\n",
      " 4   book_table                   51717 non-null  object\n",
      " 5   rate                         43942 non-null  object\n",
      " 6   votes                        51717 non-null  int64 \n",
      " 7   phone                        50509 non-null  object\n",
      " 8   location                     51696 non-null  object\n",
      " 9   rest_type                    51490 non-null  object\n",
      " 10  dish_liked                   23639 non-null  object\n",
      " 11  cuisines                     51672 non-null  object\n",
      " 12  approx_cost(for two people)  51371 non-null  object\n",
      " 13  reviews_list                 51717 non-null  object\n",
      " 14  menu_item                    51717 non-null  object\n",
      " 15  listed_in(type)              51717 non-null  object\n",
      " 16  listed_in(city)              51717 non-null  object\n",
      "dtypes: int64(1), object(16)\n",
      "memory usage: 6.7+ MB\n"
     ]
    }
   ],
   "source": [
    "df.info()"
   ]
  },
  {
   "cell_type": "markdown",
   "id": "a8a64350",
   "metadata": {},
   "source": [
    "<li>Total rows = 51717</li>\n",
    "<li>Total columns = 17</li>"
   ]
  },
  {
   "cell_type": "markdown",
   "id": "a3579b61",
   "metadata": {},
   "source": [
    "# Missing Values"
   ]
  },
  {
   "cell_type": "code",
   "execution_count": 6,
   "id": "4aa53c4c",
   "metadata": {},
   "outputs": [
    {
     "data": {
      "text/plain": [
       "url                                0\n",
       "address                            0\n",
       "name                               0\n",
       "online_order                       0\n",
       "book_table                         0\n",
       "rate                            7775\n",
       "votes                              0\n",
       "phone                           1208\n",
       "location                          21\n",
       "rest_type                        227\n",
       "dish_liked                     28078\n",
       "cuisines                          45\n",
       "approx_cost(for two people)      346\n",
       "reviews_list                       0\n",
       "menu_item                          0\n",
       "listed_in(type)                    0\n",
       "listed_in(city)                    0\n",
       "dtype: int64"
      ]
     },
     "execution_count": 6,
     "metadata": {},
     "output_type": "execute_result"
    }
   ],
   "source": [
    "df.isnull().sum()"
   ]
  },
  {
   "cell_type": "code",
   "execution_count": 7,
   "id": "c20273d0",
   "metadata": {},
   "outputs": [
    {
     "data": {
      "text/plain": [
       "url                             0.000000\n",
       "address                         0.000000\n",
       "name                            0.000000\n",
       "online_order                    0.000000\n",
       "book_table                      0.000000\n",
       "rate                           15.033741\n",
       "votes                           0.000000\n",
       "phone                           2.335789\n",
       "location                        0.040606\n",
       "rest_type                       0.438927\n",
       "dish_liked                     54.291626\n",
       "cuisines                        0.087012\n",
       "approx_cost(for two people)     0.669026\n",
       "reviews_list                    0.000000\n",
       "menu_item                       0.000000\n",
       "listed_in(type)                 0.000000\n",
       "listed_in(city)                 0.000000\n",
       "dtype: float64"
      ]
     },
     "execution_count": 7,
     "metadata": {},
     "output_type": "execute_result"
    }
   ],
   "source": [
    "df.isnull().sum()/len(df)*100"
   ]
  },
  {
   "cell_type": "markdown",
   "id": "2f871e0f",
   "metadata": {},
   "source": [
    "<li>rate with 15% percentage of data missing, 7775 in count </li>\n",
    "<li>phone with 2.33% percentage of data missing, 1208 in count</li>\n",
    "<li>location with 0.04% percentage of data missing, 21 in count</li>\n",
    "<li>rest_type with 0.43% percentage of data missing, 227 in count</li>\n",
    "<li>dish_liked with 54.29% percentage of data missing, 28078 in count</li>\n",
    "<li>cuisines with 0.087% percentage of data missing, 45 in count</li>\n",
    "<li>approx_cost(for two people) with 0.66% percentage of data missing, 346 in count</li>"
   ]
  },
  {
   "cell_type": "markdown",
   "id": "11317330",
   "metadata": {},
   "source": [
    "<h3>Handling Numerical Missing Values</h3>\n",
    "<li>rate is a object type but we can convert it into numeric and perform some imputing if needed</li>\n",
    "<li>approx_cost(for two people) needs some processing, then it we can use imputing</li>"
   ]
  },
  {
   "cell_type": "markdown",
   "id": "ac9cf950",
   "metadata": {},
   "source": [
    "We will convert rate into numeric feature by some data processing"
   ]
  },
  {
   "cell_type": "code",
   "execution_count": 8,
   "id": "3025efd6",
   "metadata": {},
   "outputs": [
    {
     "data": {
      "text/plain": [
       "dtype('O')"
      ]
     },
     "execution_count": 8,
     "metadata": {},
     "output_type": "execute_result"
    }
   ],
   "source": [
    "df['rate'].dtype"
   ]
  },
  {
   "cell_type": "code",
   "execution_count": 9,
   "id": "19f63442",
   "metadata": {},
   "outputs": [
    {
     "data": {
      "text/plain": [
       "0         4.1/5\n",
       "1         4.1/5\n",
       "2         3.8/5\n",
       "3         3.7/5\n",
       "4         3.8/5\n",
       "          ...  \n",
       "51712    3.6 /5\n",
       "51713       NaN\n",
       "51714       NaN\n",
       "51715    4.3 /5\n",
       "51716    3.4 /5\n",
       "Name: rate, Length: 51717, dtype: object"
      ]
     },
     "execution_count": 9,
     "metadata": {},
     "output_type": "execute_result"
    }
   ],
   "source": [
    "df['rate']"
   ]
  },
  {
   "cell_type": "code",
   "execution_count": 10,
   "id": "ca079d6b",
   "metadata": {},
   "outputs": [
    {
     "data": {
      "text/plain": [
       "0         4.1/5\n",
       "1         4.1/5\n",
       "2         3.8/5\n",
       "3         3.7/5\n",
       "4         3.8/5\n",
       "          ...  \n",
       "51712    3.6 /5\n",
       "51713       NaN\n",
       "51714       NaN\n",
       "51715    4.3 /5\n",
       "51716    3.4 /5\n",
       "Name: rate, Length: 51717, dtype: object"
      ]
     },
     "execution_count": 10,
     "metadata": {},
     "output_type": "execute_result"
    }
   ],
   "source": [
    "df['rate']"
   ]
  },
  {
   "cell_type": "code",
   "execution_count": 11,
   "id": "d1ace23e",
   "metadata": {},
   "outputs": [
    {
     "data": {
      "text/plain": [
       "7775"
      ]
     },
     "execution_count": 11,
     "metadata": {},
     "output_type": "execute_result"
    }
   ],
   "source": [
    "df['rate'].isnull().sum()"
   ]
  },
  {
   "cell_type": "code",
   "execution_count": 12,
   "id": "635c6b39",
   "metadata": {},
   "outputs": [],
   "source": [
    "def ratings(x):\n",
    "    if x=='NEW':\n",
    "        return x\n",
    "    if type(x)==float:\n",
    "        return x\n",
    "    if x=='-':\n",
    "        return x\n",
    "    return float(x.split('/')[0])"
   ]
  },
  {
   "cell_type": "code",
   "execution_count": 13,
   "id": "3193cf85",
   "metadata": {
    "scrolled": true
   },
   "outputs": [],
   "source": [
    "df['rate'] = df['rate'].apply(ratings)"
   ]
  },
  {
   "cell_type": "code",
   "execution_count": 14,
   "id": "1eaa7f53",
   "metadata": {},
   "outputs": [],
   "source": [
    "df['rate'].replace(['NEW','-'],np.nan,inplace=True)"
   ]
  },
  {
   "cell_type": "code",
   "execution_count": 15,
   "id": "1eab30c7",
   "metadata": {},
   "outputs": [],
   "source": [
    "df['rate'] = df['rate'].astype('float32')"
   ]
  },
  {
   "cell_type": "code",
   "execution_count": 16,
   "id": "68aaad3e",
   "metadata": {},
   "outputs": [
    {
     "data": {
      "text/plain": [
       "19.436548910416303"
      ]
     },
     "execution_count": 16,
     "metadata": {},
     "output_type": "execute_result"
    }
   ],
   "source": [
    "df['rate'].isnull().sum()/len(df)*100"
   ]
  },
  {
   "cell_type": "code",
   "execution_count": 17,
   "id": "c35db806",
   "metadata": {},
   "outputs": [],
   "source": [
    "df['rate'].fillna(df['rate'].mean(),inplace=True)"
   ]
  },
  {
   "cell_type": "code",
   "execution_count": 18,
   "id": "ddd48b84",
   "metadata": {},
   "outputs": [],
   "source": [
    "for i in range(len(df['approx_cost(for two people)'])):\n",
    "    if type(df.loc[i,'approx_cost(for two people)'])==float:\n",
    "        continue\n",
    "    df.loc[i,'approx_cost(for two people)']=df.loc[i,'approx_cost(for two people)'].replace(',','')"
   ]
  },
  {
   "cell_type": "code",
   "execution_count": 19,
   "id": "480ad00b",
   "metadata": {},
   "outputs": [
    {
     "data": {
      "text/plain": [
       "346"
      ]
     },
     "execution_count": 19,
     "metadata": {},
     "output_type": "execute_result"
    }
   ],
   "source": [
    "df['approx_cost(for two people)'].isnull().sum()"
   ]
  },
  {
   "cell_type": "code",
   "execution_count": 20,
   "id": "46fe7616",
   "metadata": {},
   "outputs": [],
   "source": [
    "df['approx_cost(for two people)']=df['approx_cost(for two people)'].astype(float)"
   ]
  },
  {
   "cell_type": "code",
   "execution_count": 21,
   "id": "edc0566f",
   "metadata": {
    "scrolled": true
   },
   "outputs": [],
   "source": [
    "df['approx_cost(for two people)'].fillna(int(df['approx_cost(for two people)'].mean()),inplace=True)"
   ]
  },
  {
   "cell_type": "code",
   "execution_count": 22,
   "id": "0dcfa4cc",
   "metadata": {},
   "outputs": [],
   "source": [
    "df['approx_cost(for two people)']=df['approx_cost(for two people)'].astype('int32')"
   ]
  },
  {
   "cell_type": "code",
   "execution_count": 23,
   "id": "fd72905f",
   "metadata": {},
   "outputs": [
    {
     "data": {
      "text/plain": [
       "555.4286791577238"
      ]
     },
     "execution_count": 23,
     "metadata": {},
     "output_type": "execute_result"
    }
   ],
   "source": [
    "df['approx_cost(for two people)'].mean()"
   ]
  },
  {
   "cell_type": "code",
   "execution_count": 24,
   "id": "0b12a621",
   "metadata": {},
   "outputs": [
    {
     "data": {
      "text/plain": [
       "0"
      ]
     },
     "execution_count": 24,
     "metadata": {},
     "output_type": "execute_result"
    }
   ],
   "source": [
    "df['approx_cost(for two people)'].isnull().sum()"
   ]
  },
  {
   "cell_type": "code",
   "execution_count": 25,
   "id": "b025ac9f",
   "metadata": {},
   "outputs": [],
   "source": [
    "df.rename(columns={'approx_cost(for two people)':'cft'},inplace=True)"
   ]
  },
  {
   "cell_type": "code",
   "execution_count": 26,
   "id": "282f33ad",
   "metadata": {},
   "outputs": [
    {
     "name": "stdout",
     "output_type": "stream",
     "text": [
      "<class 'pandas.core.frame.DataFrame'>\n",
      "RangeIndex: 51717 entries, 0 to 51716\n",
      "Data columns (total 17 columns):\n",
      " #   Column           Non-Null Count  Dtype  \n",
      "---  ------           --------------  -----  \n",
      " 0   url              51717 non-null  object \n",
      " 1   address          51717 non-null  object \n",
      " 2   name             51717 non-null  object \n",
      " 3   online_order     51717 non-null  object \n",
      " 4   book_table       51717 non-null  object \n",
      " 5   rate             51717 non-null  float32\n",
      " 6   votes            51717 non-null  int64  \n",
      " 7   phone            50509 non-null  object \n",
      " 8   location         51696 non-null  object \n",
      " 9   rest_type        51490 non-null  object \n",
      " 10  dish_liked       23639 non-null  object \n",
      " 11  cuisines         51672 non-null  object \n",
      " 12  cft              51717 non-null  int32  \n",
      " 13  reviews_list     51717 non-null  object \n",
      " 14  menu_item        51717 non-null  object \n",
      " 15  listed_in(type)  51717 non-null  object \n",
      " 16  listed_in(city)  51717 non-null  object \n",
      "dtypes: float32(1), int32(1), int64(1), object(14)\n",
      "memory usage: 6.3+ MB\n"
     ]
    }
   ],
   "source": [
    "df.info()"
   ]
  },
  {
   "cell_type": "markdown",
   "id": "d83bb3b3",
   "metadata": {},
   "source": [
    "<h3>Handling Categorical Missing Values</h3>\n",
    "<li>phone column can be dropped which is not used for analysis</li>\n",
    "<li>dish_liked column is having 54% of missing values so we can drop it</li>\n",
    "<li>we will use dropna for location and cuisines</li>\n",
    "<li>we can replace missing values of rest_type with Casual Dining</li>"
   ]
  },
  {
   "cell_type": "code",
   "execution_count": 27,
   "id": "f37f3353",
   "metadata": {},
   "outputs": [],
   "source": [
    "df.drop(columns=['phone','dish_liked'],inplace=True)"
   ]
  },
  {
   "cell_type": "code",
   "execution_count": 28,
   "id": "a619084f",
   "metadata": {},
   "outputs": [
    {
     "name": "stdout",
     "output_type": "stream",
     "text": [
      "<class 'pandas.core.frame.DataFrame'>\n",
      "RangeIndex: 51717 entries, 0 to 51716\n",
      "Data columns (total 15 columns):\n",
      " #   Column           Non-Null Count  Dtype  \n",
      "---  ------           --------------  -----  \n",
      " 0   url              51717 non-null  object \n",
      " 1   address          51717 non-null  object \n",
      " 2   name             51717 non-null  object \n",
      " 3   online_order     51717 non-null  object \n",
      " 4   book_table       51717 non-null  object \n",
      " 5   rate             51717 non-null  float32\n",
      " 6   votes            51717 non-null  int64  \n",
      " 7   location         51696 non-null  object \n",
      " 8   rest_type        51490 non-null  object \n",
      " 9   cuisines         51672 non-null  object \n",
      " 10  cft              51717 non-null  int32  \n",
      " 11  reviews_list     51717 non-null  object \n",
      " 12  menu_item        51717 non-null  object \n",
      " 13  listed_in(type)  51717 non-null  object \n",
      " 14  listed_in(city)  51717 non-null  object \n",
      "dtypes: float32(1), int32(1), int64(1), object(12)\n",
      "memory usage: 5.5+ MB\n"
     ]
    }
   ],
   "source": [
    "df.info()"
   ]
  },
  {
   "cell_type": "code",
   "execution_count": 29,
   "id": "f368086d",
   "metadata": {},
   "outputs": [
    {
     "data": {
      "text/plain": [
       "False"
      ]
     },
     "execution_count": 29,
     "metadata": {},
     "output_type": "execute_result"
    }
   ],
   "source": [
    "df.duplicated().any()"
   ]
  },
  {
   "cell_type": "code",
   "execution_count": 30,
   "id": "0f25c1a4",
   "metadata": {
    "scrolled": true
   },
   "outputs": [
    {
     "data": {
      "text/html": [
       "<div>\n",
       "<style scoped>\n",
       "    .dataframe tbody tr th:only-of-type {\n",
       "        vertical-align: middle;\n",
       "    }\n",
       "\n",
       "    .dataframe tbody tr th {\n",
       "        vertical-align: top;\n",
       "    }\n",
       "\n",
       "    .dataframe thead th {\n",
       "        text-align: right;\n",
       "    }\n",
       "</style>\n",
       "<table border=\"1\" class=\"dataframe\">\n",
       "  <thead>\n",
       "    <tr style=\"text-align: right;\">\n",
       "      <th></th>\n",
       "      <th>name</th>\n",
       "      <th>cuisines</th>\n",
       "    </tr>\n",
       "  </thead>\n",
       "  <tbody>\n",
       "    <tr>\n",
       "      <th>999</th>\n",
       "      <td>Mughlai Kitchen</td>\n",
       "      <td>Mughlai, North Indian, Chinese, Momos</td>\n",
       "    </tr>\n",
       "    <tr>\n",
       "      <th>1300</th>\n",
       "      <td>Eat &amp; Joy Restaurant</td>\n",
       "      <td>Fast Food, Finger Food</td>\n",
       "    </tr>\n",
       "    <tr>\n",
       "      <th>1376</th>\n",
       "      <td>Kababish Restaurant</td>\n",
       "      <td>North Indian, Chinese, Arabian</td>\n",
       "    </tr>\n",
       "    <tr>\n",
       "      <th>1565</th>\n",
       "      <td>Goli Vada Pav No 1</td>\n",
       "      <td>Street Food, Burger</td>\n",
       "    </tr>\n",
       "    <tr>\n",
       "      <th>1637</th>\n",
       "      <td>Ammi's Biryani</td>\n",
       "      <td>Biryani, North Indian</td>\n",
       "    </tr>\n",
       "    <tr>\n",
       "      <th>...</th>\n",
       "      <td>...</td>\n",
       "      <td>...</td>\n",
       "    </tr>\n",
       "    <tr>\n",
       "      <th>50978</th>\n",
       "      <td>Snack Itt</td>\n",
       "      <td>Bakery</td>\n",
       "    </tr>\n",
       "    <tr>\n",
       "      <th>51130</th>\n",
       "      <td>Pindi Bangalore</td>\n",
       "      <td>North Indian, Chinese, Biryani, Street Food</td>\n",
       "    </tr>\n",
       "    <tr>\n",
       "      <th>51195</th>\n",
       "      <td>Special Biryani House</td>\n",
       "      <td>North Indian, Biryani, Chinese</td>\n",
       "    </tr>\n",
       "    <tr>\n",
       "      <th>51294</th>\n",
       "      <td>Red Roost</td>\n",
       "      <td>North Indian, South Indian</td>\n",
       "    </tr>\n",
       "    <tr>\n",
       "      <th>51303</th>\n",
       "      <td>Bawarchi Restaurant</td>\n",
       "      <td>Biryani, North Indian, Chinese, Rolls, Beverages</td>\n",
       "    </tr>\n",
       "  </tbody>\n",
       "</table>\n",
       "<p>227 rows × 2 columns</p>\n",
       "</div>"
      ],
      "text/plain": [
       "                        name                                          cuisines\n",
       "999          Mughlai Kitchen             Mughlai, North Indian, Chinese, Momos\n",
       "1300    Eat & Joy Restaurant                            Fast Food, Finger Food\n",
       "1376     Kababish Restaurant                    North Indian, Chinese, Arabian\n",
       "1565      Goli Vada Pav No 1                               Street Food, Burger\n",
       "1637          Ammi's Biryani                             Biryani, North Indian\n",
       "...                      ...                                               ...\n",
       "50978              Snack Itt                                            Bakery\n",
       "51130        Pindi Bangalore       North Indian, Chinese, Biryani, Street Food\n",
       "51195  Special Biryani House                    North Indian, Biryani, Chinese\n",
       "51294              Red Roost                        North Indian, South Indian\n",
       "51303    Bawarchi Restaurant  Biryani, North Indian, Chinese, Rolls, Beverages\n",
       "\n",
       "[227 rows x 2 columns]"
      ]
     },
     "execution_count": 30,
     "metadata": {},
     "output_type": "execute_result"
    }
   ],
   "source": [
    "df[df['rest_type'].isna()][['name','cuisines']]"
   ]
  },
  {
   "cell_type": "code",
   "execution_count": 31,
   "id": "cd151120",
   "metadata": {
    "scrolled": true
   },
   "outputs": [
    {
     "data": {
      "text/plain": [
       "array(['Casual Dining', 'Cafe, Casual Dining', 'Quick Bites',\n",
       "       'Casual Dining, Cafe', 'Cafe', 'Quick Bites, Cafe',\n",
       "       'Cafe, Quick Bites', 'Delivery', 'Mess', 'Dessert Parlor',\n",
       "       'Bakery, Dessert Parlor', 'Pub', 'Bakery', 'Takeaway, Delivery',\n",
       "       'Fine Dining', 'Beverage Shop', 'Sweet Shop', 'Bar',\n",
       "       'Beverage Shop, Quick Bites', 'Confectionery',\n",
       "       'Quick Bites, Beverage Shop', 'Dessert Parlor, Sweet Shop',\n",
       "       'Bakery, Quick Bites', 'Sweet Shop, Quick Bites', 'Kiosk',\n",
       "       'Food Truck', 'Quick Bites, Dessert Parlor',\n",
       "       'Beverage Shop, Dessert Parlor', 'Takeaway', 'Pub, Casual Dining',\n",
       "       'Casual Dining, Bar', 'Dessert Parlor, Beverage Shop',\n",
       "       'Quick Bites, Bakery', 'Dessert Parlor, Quick Bites',\n",
       "       'Microbrewery, Casual Dining', 'Lounge', 'Bar, Casual Dining',\n",
       "       'Food Court', 'Cafe, Bakery', nan, 'Dhaba',\n",
       "       'Quick Bites, Sweet Shop', 'Microbrewery',\n",
       "       'Food Court, Quick Bites', 'Pub, Bar', 'Casual Dining, Pub',\n",
       "       'Lounge, Bar', 'Food Court, Dessert Parlor',\n",
       "       'Casual Dining, Sweet Shop', 'Food Court, Casual Dining',\n",
       "       'Casual Dining, Microbrewery', 'Sweet Shop, Dessert Parlor',\n",
       "       'Bakery, Beverage Shop', 'Lounge, Casual Dining',\n",
       "       'Cafe, Food Court', 'Beverage Shop, Cafe', 'Cafe, Dessert Parlor',\n",
       "       'Dessert Parlor, Cafe', 'Dessert Parlor, Bakery',\n",
       "       'Microbrewery, Pub', 'Bakery, Food Court', 'Club',\n",
       "       'Quick Bites, Food Court', 'Bakery, Cafe', 'Bar, Cafe',\n",
       "       'Pub, Cafe', 'Casual Dining, Irani Cafee', 'Fine Dining, Lounge',\n",
       "       'Bar, Quick Bites', 'Bakery, Kiosk', 'Pub, Microbrewery',\n",
       "       'Microbrewery, Lounge', 'Fine Dining, Microbrewery',\n",
       "       'Fine Dining, Bar', 'Mess, Quick Bites', 'Dessert Parlor, Kiosk',\n",
       "       'Bhojanalya', 'Casual Dining, Quick Bites', 'Pop Up', 'Cafe, Bar',\n",
       "       'Casual Dining, Lounge', 'Bakery, Sweet Shop', 'Microbrewery, Bar',\n",
       "       'Cafe, Lounge', 'Bar, Pub', 'Lounge, Cafe', 'Club, Casual Dining',\n",
       "       'Quick Bites, Mess', 'Quick Bites, Meat Shop',\n",
       "       'Quick Bites, Kiosk', 'Lounge, Microbrewery',\n",
       "       'Food Court, Beverage Shop', 'Dessert Parlor, Food Court',\n",
       "       'Bar, Lounge'], dtype=object)"
      ]
     },
     "execution_count": 31,
     "metadata": {},
     "output_type": "execute_result"
    }
   ],
   "source": [
    "df['rest_type'].unique()"
   ]
  },
  {
   "cell_type": "markdown",
   "id": "1da7f42e",
   "metadata": {},
   "source": [
    "We can replace the null values in rest_type with the Casual_Dining"
   ]
  },
  {
   "cell_type": "code",
   "execution_count": 32,
   "id": "59cc2cd9",
   "metadata": {},
   "outputs": [],
   "source": [
    "df['rest_type'].fillna('Casual Dining',inplace=True)"
   ]
  },
  {
   "cell_type": "code",
   "execution_count": 33,
   "id": "9e2ddcf3",
   "metadata": {
    "scrolled": true
   },
   "outputs": [
    {
     "data": {
      "text/plain": [
       "url                 0\n",
       "address             0\n",
       "name                0\n",
       "online_order        0\n",
       "book_table          0\n",
       "rate                0\n",
       "votes               0\n",
       "location           21\n",
       "rest_type           0\n",
       "cuisines           45\n",
       "cft                 0\n",
       "reviews_list        0\n",
       "menu_item           0\n",
       "listed_in(type)     0\n",
       "listed_in(city)     0\n",
       "dtype: int64"
      ]
     },
     "execution_count": 33,
     "metadata": {},
     "output_type": "execute_result"
    }
   ],
   "source": [
    "df.isnull().sum()"
   ]
  },
  {
   "cell_type": "code",
   "execution_count": 34,
   "id": "d8ba3641",
   "metadata": {},
   "outputs": [],
   "source": [
    "df.dropna(subset=['cuisines'],inplace=True)"
   ]
  },
  {
   "cell_type": "code",
   "execution_count": 35,
   "id": "5ba06c16",
   "metadata": {},
   "outputs": [],
   "source": [
    "df.dropna(subset=['location'],inplace=True)"
   ]
  },
  {
   "cell_type": "code",
   "execution_count": 188,
   "id": "31aadfc7",
   "metadata": {},
   "outputs": [
    {
     "data": {
      "text/html": [
       "<div>\n",
       "<style scoped>\n",
       "    .dataframe tbody tr th:only-of-type {\n",
       "        vertical-align: middle;\n",
       "    }\n",
       "\n",
       "    .dataframe tbody tr th {\n",
       "        vertical-align: top;\n",
       "    }\n",
       "\n",
       "    .dataframe thead th {\n",
       "        text-align: right;\n",
       "    }\n",
       "</style>\n",
       "<table border=\"1\" class=\"dataframe\">\n",
       "  <thead>\n",
       "    <tr style=\"text-align: right;\">\n",
       "      <th></th>\n",
       "      <th>url</th>\n",
       "      <th>address</th>\n",
       "      <th>name</th>\n",
       "      <th>online_order</th>\n",
       "      <th>book_table</th>\n",
       "      <th>rate</th>\n",
       "      <th>votes</th>\n",
       "      <th>location</th>\n",
       "      <th>rest_type</th>\n",
       "      <th>cuisines</th>\n",
       "      <th>cft</th>\n",
       "      <th>reviews_list</th>\n",
       "      <th>listed_in(type)</th>\n",
       "      <th>listed_in(city)</th>\n",
       "    </tr>\n",
       "  </thead>\n",
       "  <tbody>\n",
       "    <tr>\n",
       "      <th>0</th>\n",
       "      <td>https://www.zomato.com/bangalore/jalsa-banasha...</td>\n",
       "      <td>942, 21st Main Road, 2nd Stage, Banashankari, ...</td>\n",
       "      <td>Jalsa</td>\n",
       "      <td>Yes</td>\n",
       "      <td>Yes</td>\n",
       "      <td>4.1</td>\n",
       "      <td>775</td>\n",
       "      <td>Banashankari</td>\n",
       "      <td>Casual Dining</td>\n",
       "      <td>North Indian, Mughlai, Chinese</td>\n",
       "      <td>800</td>\n",
       "      <td>[('Rated 4.0', 'RATED\\n  A beautiful place to ...</td>\n",
       "      <td>Buffet</td>\n",
       "      <td>Banashankari</td>\n",
       "    </tr>\n",
       "    <tr>\n",
       "      <th>1</th>\n",
       "      <td>https://www.zomato.com/bangalore/spice-elephan...</td>\n",
       "      <td>2nd Floor, 80 Feet Road, Near Big Bazaar, 6th ...</td>\n",
       "      <td>Spice Elephant</td>\n",
       "      <td>Yes</td>\n",
       "      <td>No</td>\n",
       "      <td>4.1</td>\n",
       "      <td>787</td>\n",
       "      <td>Banashankari</td>\n",
       "      <td>Casual Dining</td>\n",
       "      <td>Chinese, North Indian, Thai</td>\n",
       "      <td>800</td>\n",
       "      <td>[('Rated 4.0', 'RATED\\n  Had been here for din...</td>\n",
       "      <td>Buffet</td>\n",
       "      <td>Banashankari</td>\n",
       "    </tr>\n",
       "    <tr>\n",
       "      <th>2</th>\n",
       "      <td>https://www.zomato.com/SanchurroBangalore?cont...</td>\n",
       "      <td>1112, Next to KIMS Medical College, 17th Cross...</td>\n",
       "      <td>San Churro Cafe</td>\n",
       "      <td>Yes</td>\n",
       "      <td>No</td>\n",
       "      <td>3.8</td>\n",
       "      <td>918</td>\n",
       "      <td>Banashankari</td>\n",
       "      <td>Cafe, Casual Dining</td>\n",
       "      <td>Cafe, Mexican, Italian</td>\n",
       "      <td>800</td>\n",
       "      <td>[('Rated 3.0', \"RATED\\n  Ambience is not that ...</td>\n",
       "      <td>Buffet</td>\n",
       "      <td>Banashankari</td>\n",
       "    </tr>\n",
       "    <tr>\n",
       "      <th>3</th>\n",
       "      <td>https://www.zomato.com/bangalore/addhuri-udupi...</td>\n",
       "      <td>1st Floor, Annakuteera, 3rd Stage, Banashankar...</td>\n",
       "      <td>Addhuri Udupi Bhojana</td>\n",
       "      <td>No</td>\n",
       "      <td>No</td>\n",
       "      <td>3.7</td>\n",
       "      <td>88</td>\n",
       "      <td>Banashankari</td>\n",
       "      <td>Quick Bites</td>\n",
       "      <td>South Indian, North Indian</td>\n",
       "      <td>300</td>\n",
       "      <td>[('Rated 4.0', \"RATED\\n  Great food and proper...</td>\n",
       "      <td>Buffet</td>\n",
       "      <td>Banashankari</td>\n",
       "    </tr>\n",
       "    <tr>\n",
       "      <th>4</th>\n",
       "      <td>https://www.zomato.com/bangalore/grand-village...</td>\n",
       "      <td>10, 3rd Floor, Lakshmi Associates, Gandhi Baza...</td>\n",
       "      <td>Grand Village</td>\n",
       "      <td>No</td>\n",
       "      <td>No</td>\n",
       "      <td>3.8</td>\n",
       "      <td>166</td>\n",
       "      <td>Basavanagudi</td>\n",
       "      <td>Casual Dining</td>\n",
       "      <td>North Indian, Rajasthani</td>\n",
       "      <td>600</td>\n",
       "      <td>[('Rated 4.0', 'RATED\\n  Very good restaurant ...</td>\n",
       "      <td>Buffet</td>\n",
       "      <td>Banashankari</td>\n",
       "    </tr>\n",
       "  </tbody>\n",
       "</table>\n",
       "</div>"
      ],
      "text/plain": [
       "                                                 url  \\\n",
       "0  https://www.zomato.com/bangalore/jalsa-banasha...   \n",
       "1  https://www.zomato.com/bangalore/spice-elephan...   \n",
       "2  https://www.zomato.com/SanchurroBangalore?cont...   \n",
       "3  https://www.zomato.com/bangalore/addhuri-udupi...   \n",
       "4  https://www.zomato.com/bangalore/grand-village...   \n",
       "\n",
       "                                             address                   name  \\\n",
       "0  942, 21st Main Road, 2nd Stage, Banashankari, ...                  Jalsa   \n",
       "1  2nd Floor, 80 Feet Road, Near Big Bazaar, 6th ...         Spice Elephant   \n",
       "2  1112, Next to KIMS Medical College, 17th Cross...        San Churro Cafe   \n",
       "3  1st Floor, Annakuteera, 3rd Stage, Banashankar...  Addhuri Udupi Bhojana   \n",
       "4  10, 3rd Floor, Lakshmi Associates, Gandhi Baza...          Grand Village   \n",
       "\n",
       "  online_order book_table  rate  votes      location            rest_type  \\\n",
       "0          Yes        Yes   4.1    775  Banashankari        Casual Dining   \n",
       "1          Yes         No   4.1    787  Banashankari        Casual Dining   \n",
       "2          Yes         No   3.8    918  Banashankari  Cafe, Casual Dining   \n",
       "3           No         No   3.7     88  Banashankari          Quick Bites   \n",
       "4           No         No   3.8    166  Basavanagudi        Casual Dining   \n",
       "\n",
       "                         cuisines  cft  \\\n",
       "0  North Indian, Mughlai, Chinese  800   \n",
       "1     Chinese, North Indian, Thai  800   \n",
       "2          Cafe, Mexican, Italian  800   \n",
       "3      South Indian, North Indian  300   \n",
       "4        North Indian, Rajasthani  600   \n",
       "\n",
       "                                        reviews_list listed_in(type)  \\\n",
       "0  [('Rated 4.0', 'RATED\\n  A beautiful place to ...          Buffet   \n",
       "1  [('Rated 4.0', 'RATED\\n  Had been here for din...          Buffet   \n",
       "2  [('Rated 3.0', \"RATED\\n  Ambience is not that ...          Buffet   \n",
       "3  [('Rated 4.0', \"RATED\\n  Great food and proper...          Buffet   \n",
       "4  [('Rated 4.0', 'RATED\\n  Very good restaurant ...          Buffet   \n",
       "\n",
       "  listed_in(city)  \n",
       "0    Banashankari  \n",
       "1    Banashankari  \n",
       "2    Banashankari  \n",
       "3    Banashankari  \n",
       "4    Banashankari  "
      ]
     },
     "execution_count": 188,
     "metadata": {},
     "output_type": "execute_result"
    }
   ],
   "source": [
    "df.head()"
   ]
  },
  {
   "cell_type": "code",
   "execution_count": 37,
   "id": "9c22c30a",
   "metadata": {
    "scrolled": true
   },
   "outputs": [
    {
     "data": {
      "text/plain": [
       "99.91298799234293"
      ]
     },
     "execution_count": 37,
     "metadata": {},
     "output_type": "execute_result"
    }
   ],
   "source": [
    "len(df)/len(df1)*100"
   ]
  },
  {
   "cell_type": "code",
   "execution_count": 60,
   "id": "478e0815",
   "metadata": {},
   "outputs": [
    {
     "name": "stdout",
     "output_type": "stream",
     "text": [
      "76.59273881405791\n"
     ]
    }
   ],
   "source": [
    "s=0\n",
    "for i in df['menu_item']:\n",
    "    if len(i)==2:\n",
    "        s+=1\n",
    "print(s/len(df)*100)"
   ]
  },
  {
   "cell_type": "markdown",
   "id": "d2669b52",
   "metadata": {},
   "source": [
    "menu_item feature will be dropped because 76% of data is not given for that feature"
   ]
  },
  {
   "cell_type": "code",
   "execution_count": 61,
   "id": "596a95e3",
   "metadata": {},
   "outputs": [],
   "source": [
    "df.drop(columns=['menu_item'],inplace=True,axis=1)"
   ]
  },
  {
   "cell_type": "code",
   "execution_count": 63,
   "id": "0ca52fcd",
   "metadata": {},
   "outputs": [
    {
     "name": "stdout",
     "output_type": "stream",
     "text": [
      "14.640424214274656\n"
     ]
    }
   ],
   "source": [
    "s=0\n",
    "for i in df['reviews_list']:\n",
    "    if len(i)==2:\n",
    "        s+=1\n",
    "print(s/len(df)*100)"
   ]
  },
  {
   "cell_type": "code",
   "execution_count": 62,
   "id": "f35806a5",
   "metadata": {
    "scrolled": true
   },
   "outputs": [
    {
     "data": {
      "text/plain": [
       "url                0\n",
       "address            0\n",
       "name               0\n",
       "online_order       0\n",
       "book_table         0\n",
       "rate               0\n",
       "votes              0\n",
       "location           0\n",
       "rest_type          0\n",
       "cuisines           0\n",
       "cft                0\n",
       "reviews_list       0\n",
       "listed_in(type)    0\n",
       "listed_in(city)    0\n",
       "dtype: int64"
      ]
     },
     "execution_count": 62,
     "metadata": {},
     "output_type": "execute_result"
    }
   ],
   "source": [
    "df.isnull().sum()"
   ]
  },
  {
   "cell_type": "markdown",
   "id": "f474ee2d",
   "metadata": {},
   "source": [
    "# EDA"
   ]
  },
  {
   "cell_type": "code",
   "execution_count": 456,
   "id": "5db4cdcd",
   "metadata": {},
   "outputs": [
    {
     "data": {
      "text/html": [
       "<div>\n",
       "<style scoped>\n",
       "    .dataframe tbody tr th:only-of-type {\n",
       "        vertical-align: middle;\n",
       "    }\n",
       "\n",
       "    .dataframe tbody tr th {\n",
       "        vertical-align: top;\n",
       "    }\n",
       "\n",
       "    .dataframe thead th {\n",
       "        text-align: right;\n",
       "    }\n",
       "</style>\n",
       "<table border=\"1\" class=\"dataframe\">\n",
       "  <thead>\n",
       "    <tr style=\"text-align: right;\">\n",
       "      <th></th>\n",
       "      <th>url</th>\n",
       "      <th>address</th>\n",
       "      <th>name</th>\n",
       "      <th>online_order</th>\n",
       "      <th>book_table</th>\n",
       "      <th>rate</th>\n",
       "      <th>votes</th>\n",
       "      <th>location</th>\n",
       "      <th>rest_type</th>\n",
       "      <th>cuisines</th>\n",
       "      <th>cft</th>\n",
       "      <th>reviews_list</th>\n",
       "      <th>listed_in(type)</th>\n",
       "      <th>listed_in(city)</th>\n",
       "    </tr>\n",
       "  </thead>\n",
       "  <tbody>\n",
       "    <tr>\n",
       "      <th>0</th>\n",
       "      <td>https://www.zomato.com/bangalore/jalsa-banasha...</td>\n",
       "      <td>942, 21st Main Road, 2nd Stage, Banashankari, ...</td>\n",
       "      <td>Jalsa</td>\n",
       "      <td>Yes</td>\n",
       "      <td>Yes</td>\n",
       "      <td>4.1</td>\n",
       "      <td>775</td>\n",
       "      <td>Banashankari</td>\n",
       "      <td>Casual Dining</td>\n",
       "      <td>North Indian, Mughlai, Chinese</td>\n",
       "      <td>800</td>\n",
       "      <td>[('Rated 4.0', 'RATED\\n  A beautiful place to ...</td>\n",
       "      <td>Buffet</td>\n",
       "      <td>Banashankari</td>\n",
       "    </tr>\n",
       "    <tr>\n",
       "      <th>1</th>\n",
       "      <td>https://www.zomato.com/bangalore/spice-elephan...</td>\n",
       "      <td>2nd Floor, 80 Feet Road, Near Big Bazaar, 6th ...</td>\n",
       "      <td>Spice Elephant</td>\n",
       "      <td>Yes</td>\n",
       "      <td>No</td>\n",
       "      <td>4.1</td>\n",
       "      <td>787</td>\n",
       "      <td>Banashankari</td>\n",
       "      <td>Casual Dining</td>\n",
       "      <td>Chinese, North Indian, Thai</td>\n",
       "      <td>800</td>\n",
       "      <td>[('Rated 4.0', 'RATED\\n  Had been here for din...</td>\n",
       "      <td>Buffet</td>\n",
       "      <td>Banashankari</td>\n",
       "    </tr>\n",
       "    <tr>\n",
       "      <th>2</th>\n",
       "      <td>https://www.zomato.com/SanchurroBangalore?cont...</td>\n",
       "      <td>1112, Next to KIMS Medical College, 17th Cross...</td>\n",
       "      <td>San Churro Cafe</td>\n",
       "      <td>Yes</td>\n",
       "      <td>No</td>\n",
       "      <td>3.8</td>\n",
       "      <td>918</td>\n",
       "      <td>Banashankari</td>\n",
       "      <td>Cafe, Casual Dining</td>\n",
       "      <td>Cafe, Mexican, Italian</td>\n",
       "      <td>800</td>\n",
       "      <td>[('Rated 3.0', \"RATED\\n  Ambience is not that ...</td>\n",
       "      <td>Buffet</td>\n",
       "      <td>Banashankari</td>\n",
       "    </tr>\n",
       "    <tr>\n",
       "      <th>3</th>\n",
       "      <td>https://www.zomato.com/bangalore/addhuri-udupi...</td>\n",
       "      <td>1st Floor, Annakuteera, 3rd Stage, Banashankar...</td>\n",
       "      <td>Addhuri Udupi Bhojana</td>\n",
       "      <td>No</td>\n",
       "      <td>No</td>\n",
       "      <td>3.7</td>\n",
       "      <td>88</td>\n",
       "      <td>Banashankari</td>\n",
       "      <td>Quick Bites</td>\n",
       "      <td>South Indian, North Indian</td>\n",
       "      <td>300</td>\n",
       "      <td>[('Rated 4.0', \"RATED\\n  Great food and proper...</td>\n",
       "      <td>Buffet</td>\n",
       "      <td>Banashankari</td>\n",
       "    </tr>\n",
       "    <tr>\n",
       "      <th>4</th>\n",
       "      <td>https://www.zomato.com/bangalore/grand-village...</td>\n",
       "      <td>10, 3rd Floor, Lakshmi Associates, Gandhi Baza...</td>\n",
       "      <td>Grand Village</td>\n",
       "      <td>No</td>\n",
       "      <td>No</td>\n",
       "      <td>3.8</td>\n",
       "      <td>166</td>\n",
       "      <td>Basavanagudi</td>\n",
       "      <td>Casual Dining</td>\n",
       "      <td>North Indian, Rajasthani</td>\n",
       "      <td>600</td>\n",
       "      <td>[('Rated 4.0', 'RATED\\n  Very good restaurant ...</td>\n",
       "      <td>Buffet</td>\n",
       "      <td>Banashankari</td>\n",
       "    </tr>\n",
       "  </tbody>\n",
       "</table>\n",
       "</div>"
      ],
      "text/plain": [
       "                                                 url  \\\n",
       "0  https://www.zomato.com/bangalore/jalsa-banasha...   \n",
       "1  https://www.zomato.com/bangalore/spice-elephan...   \n",
       "2  https://www.zomato.com/SanchurroBangalore?cont...   \n",
       "3  https://www.zomato.com/bangalore/addhuri-udupi...   \n",
       "4  https://www.zomato.com/bangalore/grand-village...   \n",
       "\n",
       "                                             address                   name  \\\n",
       "0  942, 21st Main Road, 2nd Stage, Banashankari, ...                  Jalsa   \n",
       "1  2nd Floor, 80 Feet Road, Near Big Bazaar, 6th ...         Spice Elephant   \n",
       "2  1112, Next to KIMS Medical College, 17th Cross...        San Churro Cafe   \n",
       "3  1st Floor, Annakuteera, 3rd Stage, Banashankar...  Addhuri Udupi Bhojana   \n",
       "4  10, 3rd Floor, Lakshmi Associates, Gandhi Baza...          Grand Village   \n",
       "\n",
       "  online_order book_table  rate  votes      location            rest_type  \\\n",
       "0          Yes        Yes   4.1    775  Banashankari        Casual Dining   \n",
       "1          Yes         No   4.1    787  Banashankari        Casual Dining   \n",
       "2          Yes         No   3.8    918  Banashankari  Cafe, Casual Dining   \n",
       "3           No         No   3.7     88  Banashankari          Quick Bites   \n",
       "4           No         No   3.8    166  Basavanagudi        Casual Dining   \n",
       "\n",
       "                         cuisines  cft  \\\n",
       "0  North Indian, Mughlai, Chinese  800   \n",
       "1     Chinese, North Indian, Thai  800   \n",
       "2          Cafe, Mexican, Italian  800   \n",
       "3      South Indian, North Indian  300   \n",
       "4        North Indian, Rajasthani  600   \n",
       "\n",
       "                                        reviews_list listed_in(type)  \\\n",
       "0  [('Rated 4.0', 'RATED\\n  A beautiful place to ...          Buffet   \n",
       "1  [('Rated 4.0', 'RATED\\n  Had been here for din...          Buffet   \n",
       "2  [('Rated 3.0', \"RATED\\n  Ambience is not that ...          Buffet   \n",
       "3  [('Rated 4.0', \"RATED\\n  Great food and proper...          Buffet   \n",
       "4  [('Rated 4.0', 'RATED\\n  Very good restaurant ...          Buffet   \n",
       "\n",
       "  listed_in(city)  \n",
       "0    Banashankari  \n",
       "1    Banashankari  \n",
       "2    Banashankari  \n",
       "3    Banashankari  \n",
       "4    Banashankari  "
      ]
     },
     "execution_count": 456,
     "metadata": {},
     "output_type": "execute_result"
    }
   ],
   "source": [
    "df.head()"
   ]
  },
  {
   "cell_type": "markdown",
   "id": "ce42dc0b",
   "metadata": {},
   "source": [
    "# Top 10 Restaurants with highest votes"
   ]
  },
  {
   "cell_type": "code",
   "execution_count": 465,
   "id": "16929c5e",
   "metadata": {},
   "outputs": [
    {
     "data": {
      "text/plain": [
       "array([16832, 16345, 14956, 14726, 14723, 14717, 14710, 14704, 14694,\n",
       "       14690, 14654, 12121, 10550, 10547, 10541, 10530, 10512, 10503,\n",
       "       10471, 10422, 10413,  9300,  9272,  9085,  9084,  9080],\n",
       "      dtype=int64)"
      ]
     },
     "execution_count": 465,
     "metadata": {},
     "output_type": "execute_result"
    }
   ],
   "source": [
    "df['votes'].nlargest(50).unique()"
   ]
  },
  {
   "cell_type": "code",
   "execution_count": 448,
   "id": "33f66b0f",
   "metadata": {
    "scrolled": false
   },
   "outputs": [
    {
     "data": {
      "text/plain": [
       "['Byg Brewski Brewing Company',\n",
       " 'Toit',\n",
       " 'Truffles',\n",
       " \"AB's - Absolute Barbecues\",\n",
       " 'The Black Pearl',\n",
       " 'Big Pitcher',\n",
       " 'Onesta',\n",
       " 'Arbor Brewing Company',\n",
       " 'Empire Restaurant',\n",
       " 'Prost Brew Pub',\n",
       " 'Church Street Social']"
      ]
     },
     "execution_count": 448,
     "metadata": {},
     "output_type": "execute_result"
    }
   ],
   "source": [
    "list(df.groupby('votes').first().sort_values(by='votes',ascending=False)['name'].head(50).unique())"
   ]
  },
  {
   "cell_type": "markdown",
   "id": "a59c1ad6",
   "metadata": {},
   "source": [
    "# Online Orders and Book Table availability"
   ]
  },
  {
   "cell_type": "code",
   "execution_count": 125,
   "id": "f3fc6289",
   "metadata": {},
   "outputs": [],
   "source": [
    "# Online only\n",
    "online = df.online_order.value_counts().loc['Yes']- df[(df['online_order']=='Yes') & (df['book_table']=='Yes')].book_table.value_counts().loc['Yes']"
   ]
  },
  {
   "cell_type": "code",
   "execution_count": 126,
   "id": "8dcfa89f",
   "metadata": {},
   "outputs": [],
   "source": [
    "# Book only\n",
    "book = df.book_table.value_counts().loc['Yes']- df[(df['online_order']=='Yes') & (df['book_table']=='Yes')].online_order.value_counts().loc['Yes']"
   ]
  },
  {
   "cell_type": "code",
   "execution_count": 127,
   "id": "7e0c3a08",
   "metadata": {},
   "outputs": [],
   "source": [
    "# Both online and book\n",
    "both = df[(df['online_order']=='Yes') & (df['book_table']=='Yes')].book_table.value_counts().loc['Yes']"
   ]
  },
  {
   "cell_type": "code",
   "execution_count": 131,
   "id": "fb0c45dc",
   "metadata": {},
   "outputs": [],
   "source": [
    "# Not online and book\n",
    "not_both = df[(df['online_order']=='No') & (df['book_table']=='No')].book_table.value_counts().loc['No']"
   ]
  },
  {
   "cell_type": "code",
   "execution_count": 136,
   "id": "1ec97a83",
   "metadata": {},
   "outputs": [
    {
     "data": {
      "image/png": "[encoded data removed]",
      "text/plain": [
       "<Figure size 640x480 with 1 Axes>"
      ]
     },
     "metadata": {},
     "output_type": "display_data"
    }
   ],
   "source": [
    "plt.pie([online,book,both,not_both],labels=['O','B','OB','NOB'],autopct='%.1f%%')\n",
    "plt.show()"
   ]
  },
  {
   "cell_type": "markdown",
   "id": "f5b45c9b",
   "metadata": {},
   "source": [
    "# Most list_in(type)"
   ]
  },
  {
   "cell_type": "code",
   "execution_count": 147,
   "id": "849025cc",
   "metadata": {},
   "outputs": [],
   "source": [
    "v = list(df['listed_in(type)'].value_counts().unique())"
   ]
  },
  {
   "cell_type": "code",
   "execution_count": 165,
   "id": "51edfa2c",
   "metadata": {},
   "outputs": [],
   "source": [
    "k = list(df['listed_in(type)'].value_counts().index)"
   ]
  },
  {
   "cell_type": "code",
   "execution_count": 175,
   "id": "10c0c5e2",
   "metadata": {
    "scrolled": true
   },
   "outputs": [
    {
     "data": {
      "image/png": "[encoded data removed]",
      "text/plain": [
       "<Figure size 640x480 with 1 Axes>"
      ]
     },
     "metadata": {},
     "output_type": "display_data"
    }
   ],
   "source": [
    "plt.pie(v,labels=k,autopct='%.1f%%',explode=(.01,.01,.02,.02,.02,.02,.08))\n",
    "plt.show()"
   ]
  },
  {
   "cell_type": "code",
   "execution_count": 178,
   "id": "295ccb9b",
   "metadata": {},
   "outputs": [
    {
     "data": {
      "text/plain": [
       "16010"
      ]
     },
     "execution_count": 178,
     "metadata": {},
     "output_type": "execute_result"
    }
   ],
   "source": [
    "len(df[df['listed_in(city)']==df['location']])"
   ]
  },
  {
   "cell_type": "markdown",
   "id": "61b5733f",
   "metadata": {},
   "source": [
    "# Is Rating is directly proportional to Votes?"
   ]
  },
  {
   "cell_type": "code",
   "execution_count": 196,
   "id": "52c09d72",
   "metadata": {},
   "outputs": [
    {
     "data": {
      "text/plain": [
       "<Axes: xlabel='rate', ylabel='votes'>"
      ]
     },
     "execution_count": 196,
     "metadata": {},
     "output_type": "execute_result"
    },
    {
     "data": {
      "image/png": "[encoded data removed]",
      "text/plain": [
       "<Figure size 2000x1000 with 1 Axes>"
      ]
     },
     "metadata": {},
     "output_type": "display_data"
    }
   ],
   "source": [
    "plt.figure(figsize=(20,10))\n",
    "sns.barplot(x='rate',y='votes',data=df)"
   ]
  },
  {
   "cell_type": "markdown",
   "id": "a4a780a6",
   "metadata": {},
   "source": [
    "We can say mostly the rating is higher when the votes are higher and vice versa"
   ]
  },
  {
   "cell_type": "code",
   "execution_count": 197,
   "id": "a81a42dd",
   "metadata": {},
   "outputs": [
    {
     "data": {
      "text/html": [
       "<div>\n",
       "<style scoped>\n",
       "    .dataframe tbody tr th:only-of-type {\n",
       "        vertical-align: middle;\n",
       "    }\n",
       "\n",
       "    .dataframe tbody tr th {\n",
       "        vertical-align: top;\n",
       "    }\n",
       "\n",
       "    .dataframe thead th {\n",
       "        text-align: right;\n",
       "    }\n",
       "</style>\n",
       "<table border=\"1\" class=\"dataframe\">\n",
       "  <thead>\n",
       "    <tr style=\"text-align: right;\">\n",
       "      <th></th>\n",
       "      <th>url</th>\n",
       "      <th>address</th>\n",
       "      <th>name</th>\n",
       "      <th>online_order</th>\n",
       "      <th>book_table</th>\n",
       "      <th>rate</th>\n",
       "      <th>votes</th>\n",
       "      <th>location</th>\n",
       "      <th>rest_type</th>\n",
       "      <th>cuisines</th>\n",
       "      <th>cft</th>\n",
       "      <th>reviews_list</th>\n",
       "      <th>listed_in(type)</th>\n",
       "      <th>listed_in(city)</th>\n",
       "    </tr>\n",
       "  </thead>\n",
       "  <tbody>\n",
       "    <tr>\n",
       "      <th>0</th>\n",
       "      <td>https://www.zomato.com/bangalore/jalsa-banasha...</td>\n",
       "      <td>942, 21st Main Road, 2nd Stage, Banashankari, ...</td>\n",
       "      <td>Jalsa</td>\n",
       "      <td>Yes</td>\n",
       "      <td>Yes</td>\n",
       "      <td>4.1</td>\n",
       "      <td>775</td>\n",
       "      <td>Banashankari</td>\n",
       "      <td>Casual Dining</td>\n",
       "      <td>North Indian, Mughlai, Chinese</td>\n",
       "      <td>800</td>\n",
       "      <td>[('Rated 4.0', 'RATED\\n  A beautiful place to ...</td>\n",
       "      <td>Buffet</td>\n",
       "      <td>Banashankari</td>\n",
       "    </tr>\n",
       "    <tr>\n",
       "      <th>1</th>\n",
       "      <td>https://www.zomato.com/bangalore/spice-elephan...</td>\n",
       "      <td>2nd Floor, 80 Feet Road, Near Big Bazaar, 6th ...</td>\n",
       "      <td>Spice Elephant</td>\n",
       "      <td>Yes</td>\n",
       "      <td>No</td>\n",
       "      <td>4.1</td>\n",
       "      <td>787</td>\n",
       "      <td>Banashankari</td>\n",
       "      <td>Casual Dining</td>\n",
       "      <td>Chinese, North Indian, Thai</td>\n",
       "      <td>800</td>\n",
       "      <td>[('Rated 4.0', 'RATED\\n  Had been here for din...</td>\n",
       "      <td>Buffet</td>\n",
       "      <td>Banashankari</td>\n",
       "    </tr>\n",
       "    <tr>\n",
       "      <th>2</th>\n",
       "      <td>https://www.zomato.com/SanchurroBangalore?cont...</td>\n",
       "      <td>1112, Next to KIMS Medical College, 17th Cross...</td>\n",
       "      <td>San Churro Cafe</td>\n",
       "      <td>Yes</td>\n",
       "      <td>No</td>\n",
       "      <td>3.8</td>\n",
       "      <td>918</td>\n",
       "      <td>Banashankari</td>\n",
       "      <td>Cafe, Casual Dining</td>\n",
       "      <td>Cafe, Mexican, Italian</td>\n",
       "      <td>800</td>\n",
       "      <td>[('Rated 3.0', \"RATED\\n  Ambience is not that ...</td>\n",
       "      <td>Buffet</td>\n",
       "      <td>Banashankari</td>\n",
       "    </tr>\n",
       "    <tr>\n",
       "      <th>3</th>\n",
       "      <td>https://www.zomato.com/bangalore/addhuri-udupi...</td>\n",
       "      <td>1st Floor, Annakuteera, 3rd Stage, Banashankar...</td>\n",
       "      <td>Addhuri Udupi Bhojana</td>\n",
       "      <td>No</td>\n",
       "      <td>No</td>\n",
       "      <td>3.7</td>\n",
       "      <td>88</td>\n",
       "      <td>Banashankari</td>\n",
       "      <td>Quick Bites</td>\n",
       "      <td>South Indian, North Indian</td>\n",
       "      <td>300</td>\n",
       "      <td>[('Rated 4.0', \"RATED\\n  Great food and proper...</td>\n",
       "      <td>Buffet</td>\n",
       "      <td>Banashankari</td>\n",
       "    </tr>\n",
       "    <tr>\n",
       "      <th>4</th>\n",
       "      <td>https://www.zomato.com/bangalore/grand-village...</td>\n",
       "      <td>10, 3rd Floor, Lakshmi Associates, Gandhi Baza...</td>\n",
       "      <td>Grand Village</td>\n",
       "      <td>No</td>\n",
       "      <td>No</td>\n",
       "      <td>3.8</td>\n",
       "      <td>166</td>\n",
       "      <td>Basavanagudi</td>\n",
       "      <td>Casual Dining</td>\n",
       "      <td>North Indian, Rajasthani</td>\n",
       "      <td>600</td>\n",
       "      <td>[('Rated 4.0', 'RATED\\n  Very good restaurant ...</td>\n",
       "      <td>Buffet</td>\n",
       "      <td>Banashankari</td>\n",
       "    </tr>\n",
       "  </tbody>\n",
       "</table>\n",
       "</div>"
      ],
      "text/plain": [
       "                                                 url  \\\n",
       "0  https://www.zomato.com/bangalore/jalsa-banasha...   \n",
       "1  https://www.zomato.com/bangalore/spice-elephan...   \n",
       "2  https://www.zomato.com/SanchurroBangalore?cont...   \n",
       "3  https://www.zomato.com/bangalore/addhuri-udupi...   \n",
       "4  https://www.zomato.com/bangalore/grand-village...   \n",
       "\n",
       "                                             address                   name  \\\n",
       "0  942, 21st Main Road, 2nd Stage, Banashankari, ...                  Jalsa   \n",
       "1  2nd Floor, 80 Feet Road, Near Big Bazaar, 6th ...         Spice Elephant   \n",
       "2  1112, Next to KIMS Medical College, 17th Cross...        San Churro Cafe   \n",
       "3  1st Floor, Annakuteera, 3rd Stage, Banashankar...  Addhuri Udupi Bhojana   \n",
       "4  10, 3rd Floor, Lakshmi Associates, Gandhi Baza...          Grand Village   \n",
       "\n",
       "  online_order book_table  rate  votes      location            rest_type  \\\n",
       "0          Yes        Yes   4.1    775  Banashankari        Casual Dining   \n",
       "1          Yes         No   4.1    787  Banashankari        Casual Dining   \n",
       "2          Yes         No   3.8    918  Banashankari  Cafe, Casual Dining   \n",
       "3           No         No   3.7     88  Banashankari          Quick Bites   \n",
       "4           No         No   3.8    166  Basavanagudi        Casual Dining   \n",
       "\n",
       "                         cuisines  cft  \\\n",
       "0  North Indian, Mughlai, Chinese  800   \n",
       "1     Chinese, North Indian, Thai  800   \n",
       "2          Cafe, Mexican, Italian  800   \n",
       "3      South Indian, North Indian  300   \n",
       "4        North Indian, Rajasthani  600   \n",
       "\n",
       "                                        reviews_list listed_in(type)  \\\n",
       "0  [('Rated 4.0', 'RATED\\n  A beautiful place to ...          Buffet   \n",
       "1  [('Rated 4.0', 'RATED\\n  Had been here for din...          Buffet   \n",
       "2  [('Rated 3.0', \"RATED\\n  Ambience is not that ...          Buffet   \n",
       "3  [('Rated 4.0', \"RATED\\n  Great food and proper...          Buffet   \n",
       "4  [('Rated 4.0', 'RATED\\n  Very good restaurant ...          Buffet   \n",
       "\n",
       "  listed_in(city)  \n",
       "0    Banashankari  \n",
       "1    Banashankari  \n",
       "2    Banashankari  \n",
       "3    Banashankari  \n",
       "4    Banashankari  "
      ]
     },
     "execution_count": 197,
     "metadata": {},
     "output_type": "execute_result"
    }
   ],
   "source": [
    "df.head()"
   ]
  },
  {
   "cell_type": "markdown",
   "id": "0bba49f7",
   "metadata": {},
   "source": [
    "# Which location is best to open a restaurant?"
   ]
  },
  {
   "cell_type": "code",
   "execution_count": 485,
   "id": "fef919a9",
   "metadata": {},
   "outputs": [
    {
     "data": {
      "text/plain": [
       "BTM                      5124\n",
       "HSR                      2523\n",
       "Koramangala 5th Block    2504\n",
       "JP Nagar                 2233\n",
       "Whitefield               2136\n",
       "Indiranagar              2081\n",
       "Jayanagar                1926\n",
       "Marathahalli             1843\n",
       "Bannerghatta Road        1630\n",
       "Bellandur                1286\n",
       "Name: location, dtype: int64"
      ]
     },
     "execution_count": 485,
     "metadata": {},
     "output_type": "execute_result"
    }
   ],
   "source": [
    "df['location'].value_counts().head(10)"
   ]
  },
  {
   "cell_type": "markdown",
   "id": "a009dcc7",
   "metadata": {},
   "source": [
    "The location of Top 10 mosted visited restaurants are best open a new restaurant"
   ]
  },
  {
   "cell_type": "markdown",
   "id": "7d5933bb",
   "metadata": {},
   "source": [
    "# Top 10 single cuisines (Best single cuisines)"
   ]
  },
  {
   "cell_type": "code",
   "execution_count": 376,
   "id": "d9670a39",
   "metadata": {},
   "outputs": [],
   "source": [
    "l=[]\n",
    "s={}\n",
    "for i in df['cuisines']:\n",
    "    for j in i.split(','):\n",
    "        j=j.strip()\n",
    "        if j not in l:\n",
    "            l.append(j)"
   ]
  },
  {
   "cell_type": "code",
   "execution_count": 377,
   "id": "678a7ebf",
   "metadata": {},
   "outputs": [
    {
     "data": {
      "text/plain": [
       "107"
      ]
     },
     "execution_count": 377,
     "metadata": {},
     "output_type": "execute_result"
    }
   ],
   "source": [
    "len(l)"
   ]
  },
  {
   "cell_type": "code",
   "execution_count": 378,
   "id": "e924b3c4",
   "metadata": {},
   "outputs": [],
   "source": [
    "d=dict()\n",
    "for i in df['cuisines']:\n",
    "    for j in i.split(','):\n",
    "        j=j.strip()\n",
    "        d[j]=0"
   ]
  },
  {
   "cell_type": "code",
   "execution_count": 379,
   "id": "b2bc5900",
   "metadata": {},
   "outputs": [],
   "source": [
    "for i in df['cuisines']:\n",
    "    for j in i.split(','):\n",
    "        j=j.strip()\n",
    "        d[j]+=1"
   ]
  },
  {
   "cell_type": "code",
   "execution_count": 380,
   "id": "029210db",
   "metadata": {},
   "outputs": [
    {
     "data": {
      "text/plain": [
       "107"
      ]
     },
     "execution_count": 380,
     "metadata": {},
     "output_type": "execute_result"
    }
   ],
   "source": [
    "len(d)"
   ]
  },
  {
   "cell_type": "code",
   "execution_count": 381,
   "id": "86c80432",
   "metadata": {},
   "outputs": [],
   "source": [
    "d1 = {\n",
    "    'Name':d.keys(),\n",
    "    'Counts':d.values()\n",
    "}"
   ]
  },
  {
   "cell_type": "code",
   "execution_count": 382,
   "id": "6deb850e",
   "metadata": {},
   "outputs": [],
   "source": [
    "d2 = pd.DataFrame(d1)"
   ]
  },
  {
   "cell_type": "code",
   "execution_count": 383,
   "id": "6c14be7d",
   "metadata": {},
   "outputs": [],
   "source": [
    "d1 = d2.sort_values(by='Counts',ascending=False).head(10)"
   ]
  },
  {
   "cell_type": "code",
   "execution_count": 384,
   "id": "809c9924",
   "metadata": {},
   "outputs": [],
   "source": [
    "popular_c = d1['Name']"
   ]
  },
  {
   "cell_type": "code",
   "execution_count": 385,
   "id": "7f9c5788",
   "metadata": {
    "scrolled": true
   },
   "outputs": [
    {
     "data": {
      "text/html": [
       "<div>\n",
       "<style scoped>\n",
       "    .dataframe tbody tr th:only-of-type {\n",
       "        vertical-align: middle;\n",
       "    }\n",
       "\n",
       "    .dataframe tbody tr th {\n",
       "        vertical-align: top;\n",
       "    }\n",
       "\n",
       "    .dataframe thead th {\n",
       "        text-align: right;\n",
       "    }\n",
       "</style>\n",
       "<table border=\"1\" class=\"dataframe\">\n",
       "  <thead>\n",
       "    <tr style=\"text-align: right;\">\n",
       "      <th></th>\n",
       "      <th>Name</th>\n",
       "      <th>Counts</th>\n",
       "    </tr>\n",
       "  </thead>\n",
       "  <tbody>\n",
       "    <tr>\n",
       "      <th>0</th>\n",
       "      <td>North Indian</td>\n",
       "      <td>21085</td>\n",
       "    </tr>\n",
       "    <tr>\n",
       "      <th>2</th>\n",
       "      <td>Chinese</td>\n",
       "      <td>15547</td>\n",
       "    </tr>\n",
       "    <tr>\n",
       "      <th>7</th>\n",
       "      <td>South Indian</td>\n",
       "      <td>8644</td>\n",
       "    </tr>\n",
       "    <tr>\n",
       "      <th>14</th>\n",
       "      <td>Fast Food</td>\n",
       "      <td>8096</td>\n",
       "    </tr>\n",
       "    <tr>\n",
       "      <th>21</th>\n",
       "      <td>Biryani</td>\n",
       "      <td>6492</td>\n",
       "    </tr>\n",
       "    <tr>\n",
       "      <th>11</th>\n",
       "      <td>Continental</td>\n",
       "      <td>5765</td>\n",
       "    </tr>\n",
       "    <tr>\n",
       "      <th>20</th>\n",
       "      <td>Desserts</td>\n",
       "      <td>5633</td>\n",
       "    </tr>\n",
       "    <tr>\n",
       "      <th>4</th>\n",
       "      <td>Cafe</td>\n",
       "      <td>5303</td>\n",
       "    </tr>\n",
       "    <tr>\n",
       "      <th>13</th>\n",
       "      <td>Beverages</td>\n",
       "      <td>4747</td>\n",
       "    </tr>\n",
       "    <tr>\n",
       "      <th>6</th>\n",
       "      <td>Italian</td>\n",
       "      <td>3389</td>\n",
       "    </tr>\n",
       "  </tbody>\n",
       "</table>\n",
       "</div>"
      ],
      "text/plain": [
       "            Name  Counts\n",
       "0   North Indian   21085\n",
       "2        Chinese   15547\n",
       "7   South Indian    8644\n",
       "14     Fast Food    8096\n",
       "21       Biryani    6492\n",
       "11   Continental    5765\n",
       "20      Desserts    5633\n",
       "4           Cafe    5303\n",
       "13     Beverages    4747\n",
       "6        Italian    3389"
      ]
     },
     "execution_count": 385,
     "metadata": {},
     "output_type": "execute_result"
    }
   ],
   "source": [
    "d1"
   ]
  },
  {
   "cell_type": "code",
   "execution_count": 279,
   "id": "e67bea98",
   "metadata": {},
   "outputs": [
    {
     "data": {
      "image/png": "[encoded data removed]",
      "text/plain": [
       "<Figure size 640x480 with 1 Axes>"
      ]
     },
     "metadata": {},
     "output_type": "display_data"
    }
   ],
   "source": [
    "sns.barplot(x='Name',y='Counts',data=d1)\n",
    "plt.xticks(rotation='vertical')\n",
    "plt.show()"
   ]
  },
  {
   "cell_type": "markdown",
   "id": "1131e9a9",
   "metadata": {},
   "source": [
    "# Which system got most rating greater than 4 Online or Booking?"
   ]
  },
  {
   "cell_type": "code",
   "execution_count": 280,
   "id": "57250129",
   "metadata": {},
   "outputs": [
    {
     "data": {
      "text/plain": [
       "8372"
      ]
     },
     "execution_count": 280,
     "metadata": {},
     "output_type": "execute_result"
    }
   ],
   "source": [
    "len(df[(df['online_order']=='Yes') & (df['rate']>=4.0)])"
   ]
  },
  {
   "cell_type": "code",
   "execution_count": 281,
   "id": "f0ab84aa",
   "metadata": {},
   "outputs": [
    {
     "data": {
      "text/plain": [
       "4918"
      ]
     },
     "execution_count": 281,
     "metadata": {},
     "output_type": "execute_result"
    }
   ],
   "source": [
    "len(df[(df['book_table']=='Yes') & (df['rate']>=4.0)])"
   ]
  },
  {
   "cell_type": "markdown",
   "id": "4b1efe9b",
   "metadata": {},
   "source": [
    "Online_order system got more rating greater than 4"
   ]
  },
  {
   "cell_type": "markdown",
   "id": "eee41992",
   "metadata": {},
   "source": [
    "# Which location have most online orders and which location have most book_table?"
   ]
  },
  {
   "cell_type": "code",
   "execution_count": 368,
   "id": "36689994",
   "metadata": {},
   "outputs": [
    {
     "data": {
      "text/plain": [
       "30428"
      ]
     },
     "execution_count": 368,
     "metadata": {},
     "output_type": "execute_result"
    }
   ],
   "source": [
    "len(df[df['online_order']=='Yes'])"
   ]
  },
  {
   "cell_type": "code",
   "execution_count": 291,
   "id": "723a6049",
   "metadata": {},
   "outputs": [],
   "source": [
    "l = list(df['location'].unique())"
   ]
  },
  {
   "cell_type": "code",
   "execution_count": 292,
   "id": "d7503cea",
   "metadata": {},
   "outputs": [],
   "source": [
    "d={}\n",
    "for i in l:\n",
    "    d[i]=0"
   ]
  },
  {
   "cell_type": "code",
   "execution_count": 351,
   "id": "3e85f232",
   "metadata": {},
   "outputs": [],
   "source": [
    "s=0\n",
    "for i in range(len(df)):\n",
    "    k=df.iloc[i,7]\n",
    "    y=df.iloc[i,3]\n",
    "    if y=='Yes' and k in d.keys():\n",
    "        d[k]+=1\n",
    "    "
   ]
  },
  {
   "cell_type": "code",
   "execution_count": 358,
   "id": "25dd968e",
   "metadata": {},
   "outputs": [],
   "source": [
    "d1={\n",
    "    'Location':d.keys(),\n",
    "    'Counts':d.values()\n",
    "}\n",
    "d2 = pd.DataFrame(d1)"
   ]
  },
  {
   "cell_type": "code",
   "execution_count": 359,
   "id": "592f6314",
   "metadata": {},
   "outputs": [],
   "source": [
    "d3 = d2.sort_values(by='Counts',ascending=False).head(10)"
   ]
  },
  {
   "cell_type": "code",
   "execution_count": 367,
   "id": "c4013796",
   "metadata": {},
   "outputs": [
    {
     "data": {
      "text/plain": [
       "30438"
      ]
     },
     "execution_count": 367,
     "metadata": {},
     "output_type": "execute_result"
    }
   ],
   "source": [
    "sum(d2['Counts'])"
   ]
  },
  {
   "cell_type": "code",
   "execution_count": 360,
   "id": "cb3d5697",
   "metadata": {},
   "outputs": [
    {
     "data": {
      "text/html": [
       "<div>\n",
       "<style scoped>\n",
       "    .dataframe tbody tr th:only-of-type {\n",
       "        vertical-align: middle;\n",
       "    }\n",
       "\n",
       "    .dataframe tbody tr th {\n",
       "        vertical-align: top;\n",
       "    }\n",
       "\n",
       "    .dataframe thead th {\n",
       "        text-align: right;\n",
       "    }\n",
       "</style>\n",
       "<table border=\"1\" class=\"dataframe\">\n",
       "  <thead>\n",
       "    <tr style=\"text-align: right;\">\n",
       "      <th></th>\n",
       "      <th>Location</th>\n",
       "      <th>Counts</th>\n",
       "    </tr>\n",
       "  </thead>\n",
       "  <tbody>\n",
       "    <tr>\n",
       "      <th>13</th>\n",
       "      <td>BTM</td>\n",
       "      <td>3332</td>\n",
       "    </tr>\n",
       "    <tr>\n",
       "      <th>18</th>\n",
       "      <td>HSR</td>\n",
       "      <td>1920</td>\n",
       "    </tr>\n",
       "    <tr>\n",
       "      <th>23</th>\n",
       "      <td>Koramangala 5th Block</td>\n",
       "      <td>1614</td>\n",
       "    </tr>\n",
       "    <tr>\n",
       "      <th>3</th>\n",
       "      <td>Jayanagar</td>\n",
       "      <td>1365</td>\n",
       "    </tr>\n",
       "    <tr>\n",
       "      <th>33</th>\n",
       "      <td>Indiranagar</td>\n",
       "      <td>1335</td>\n",
       "    </tr>\n",
       "    <tr>\n",
       "      <th>8</th>\n",
       "      <td>JP Nagar</td>\n",
       "      <td>1319</td>\n",
       "    </tr>\n",
       "    <tr>\n",
       "      <th>30</th>\n",
       "      <td>Whitefield</td>\n",
       "      <td>1133</td>\n",
       "    </tr>\n",
       "    <tr>\n",
       "      <th>19</th>\n",
       "      <td>Marathahalli</td>\n",
       "      <td>1109</td>\n",
       "    </tr>\n",
       "    <tr>\n",
       "      <th>12</th>\n",
       "      <td>Bannerghatta Road</td>\n",
       "      <td>924</td>\n",
       "    </tr>\n",
       "    <tr>\n",
       "      <th>34</th>\n",
       "      <td>Koramangala 1st Block</td>\n",
       "      <td>853</td>\n",
       "    </tr>\n",
       "  </tbody>\n",
       "</table>\n",
       "</div>"
      ],
      "text/plain": [
       "                 Location  Counts\n",
       "13                    BTM    3332\n",
       "18                    HSR    1920\n",
       "23  Koramangala 5th Block    1614\n",
       "3               Jayanagar    1365\n",
       "33            Indiranagar    1335\n",
       "8                JP Nagar    1319\n",
       "30             Whitefield    1133\n",
       "19           Marathahalli    1109\n",
       "12      Bannerghatta Road     924\n",
       "34  Koramangala 1st Block     853"
      ]
     },
     "execution_count": 360,
     "metadata": {},
     "output_type": "execute_result"
    }
   ],
   "source": [
    "d3"
   ]
  },
  {
   "cell_type": "code",
   "execution_count": 361,
   "id": "9b11252b",
   "metadata": {},
   "outputs": [
    {
     "data": {
      "image/png": "[encoded data removed]",
      "text/plain": [
       "<Figure size 640x480 with 1 Axes>"
      ]
     },
     "metadata": {},
     "output_type": "display_data"
    }
   ],
   "source": [
    "sns.barplot(x='Location',y='Counts',data=d3)\n",
    "plt.xticks(rotation='vertical')\n",
    "plt.show()"
   ]
  },
  {
   "cell_type": "markdown",
   "id": "40e986ba",
   "metadata": {},
   "source": [
    "# Most visited rest_type"
   ]
  },
  {
   "cell_type": "code",
   "execution_count": 370,
   "id": "ee2df24f",
   "metadata": {},
   "outputs": [
    {
     "data": {
      "text/plain": [
       "Quick Bites           19129\n",
       "Casual Dining         10532\n",
       "Cafe                   3732\n",
       "Delivery               2595\n",
       "Dessert Parlor         2262\n",
       "Takeaway, Delivery     2035\n",
       "Casual Dining, Bar     1154\n",
       "Bakery                 1141\n",
       "Beverage Shop           865\n",
       "Bar                     697\n",
       "Name: rest_type, dtype: int64"
      ]
     },
     "execution_count": 370,
     "metadata": {},
     "output_type": "execute_result"
    }
   ],
   "source": [
    "df['rest_type'].value_counts().head(10)"
   ]
  },
  {
   "cell_type": "markdown",
   "id": "d6058d92",
   "metadata": {},
   "source": [
    "# Which city has all popular cuisines?"
   ]
  },
  {
   "cell_type": "code",
   "execution_count": 387,
   "id": "ea68ea81",
   "metadata": {},
   "outputs": [],
   "source": [
    "popular_c = list(popular_c)"
   ]
  },
  {
   "cell_type": "code",
   "execution_count": 394,
   "id": "df821f82",
   "metadata": {},
   "outputs": [],
   "source": [
    "popular_c =popular_c[:5]"
   ]
  },
  {
   "cell_type": "code",
   "execution_count": 388,
   "id": "b097a787",
   "metadata": {},
   "outputs": [],
   "source": [
    "l = list(df['listed_in(city)'].unique())"
   ]
  },
  {
   "cell_type": "code",
   "execution_count": 431,
   "id": "4cdc42ea",
   "metadata": {},
   "outputs": [],
   "source": [
    "d={}\n",
    "d1={}\n",
    "for i in popular_c:\n",
    "    d1[i]=0\n",
    "for i in l:\n",
    "    d[i]=d1"
   ]
  },
  {
   "cell_type": "code",
   "execution_count": 433,
   "id": "887ec739",
   "metadata": {},
   "outputs": [],
   "source": [
    "s=0\n",
    "for i in range(len(df)):\n",
    "    k=df.iloc[i,13]\n",
    "    y=df.iloc[i,9].split(',')\n",
    "    for i in range(len(y)):\n",
    "        y[i]=y[i].strip()\n",
    "    for j in y:\n",
    "        if j in d1.keys():\n",
    "            d[k][j]+=1\n",
    "    "
   ]
  },
  {
   "cell_type": "code",
   "execution_count": 435,
   "id": "f110b0b6",
   "metadata": {
    "scrolled": false
   },
   "outputs": [
    {
     "data": {
      "text/plain": [
       "(30, 30)"
      ]
     },
     "execution_count": 435,
     "metadata": {},
     "output_type": "execute_result"
    }
   ],
   "source": [
    "len(l),len(d)"
   ]
  },
  {
   "cell_type": "markdown",
   "id": "a0bde55c",
   "metadata": {},
   "source": [
    "All locations have the most popular cuisines in their restaurant"
   ]
  },
  {
   "cell_type": "code",
   "execution_count": 441,
   "id": "83dbc61f",
   "metadata": {},
   "outputs": [
    {
     "data": {
      "text/html": [
       "<div>\n",
       "<style scoped>\n",
       "    .dataframe tbody tr th:only-of-type {\n",
       "        vertical-align: middle;\n",
       "    }\n",
       "\n",
       "    .dataframe tbody tr th {\n",
       "        vertical-align: top;\n",
       "    }\n",
       "\n",
       "    .dataframe thead th {\n",
       "        text-align: right;\n",
       "    }\n",
       "</style>\n",
       "<table border=\"1\" class=\"dataframe\">\n",
       "  <thead>\n",
       "    <tr style=\"text-align: right;\">\n",
       "      <th></th>\n",
       "      <th>url</th>\n",
       "      <th>address</th>\n",
       "      <th>name</th>\n",
       "      <th>online_order</th>\n",
       "      <th>book_table</th>\n",
       "      <th>rate</th>\n",
       "      <th>votes</th>\n",
       "      <th>location</th>\n",
       "      <th>rest_type</th>\n",
       "      <th>cuisines</th>\n",
       "      <th>cft</th>\n",
       "      <th>reviews_list</th>\n",
       "      <th>listed_in(type)</th>\n",
       "      <th>listed_in(city)</th>\n",
       "    </tr>\n",
       "  </thead>\n",
       "  <tbody>\n",
       "    <tr>\n",
       "      <th>0</th>\n",
       "      <td>https://www.zomato.com/bangalore/jalsa-banasha...</td>\n",
       "      <td>942, 21st Main Road, 2nd Stage, Banashankari, ...</td>\n",
       "      <td>Jalsa</td>\n",
       "      <td>Yes</td>\n",
       "      <td>Yes</td>\n",
       "      <td>4.1</td>\n",
       "      <td>775</td>\n",
       "      <td>Banashankari</td>\n",
       "      <td>Casual Dining</td>\n",
       "      <td>North Indian, Mughlai, Chinese</td>\n",
       "      <td>800</td>\n",
       "      <td>[('Rated 4.0', 'RATED\\n  A beautiful place to ...</td>\n",
       "      <td>Buffet</td>\n",
       "      <td>Banashankari</td>\n",
       "    </tr>\n",
       "    <tr>\n",
       "      <th>1</th>\n",
       "      <td>https://www.zomato.com/bangalore/spice-elephan...</td>\n",
       "      <td>2nd Floor, 80 Feet Road, Near Big Bazaar, 6th ...</td>\n",
       "      <td>Spice Elephant</td>\n",
       "      <td>Yes</td>\n",
       "      <td>No</td>\n",
       "      <td>4.1</td>\n",
       "      <td>787</td>\n",
       "      <td>Banashankari</td>\n",
       "      <td>Casual Dining</td>\n",
       "      <td>Chinese, North Indian, Thai</td>\n",
       "      <td>800</td>\n",
       "      <td>[('Rated 4.0', 'RATED\\n  Had been here for din...</td>\n",
       "      <td>Buffet</td>\n",
       "      <td>Banashankari</td>\n",
       "    </tr>\n",
       "    <tr>\n",
       "      <th>2</th>\n",
       "      <td>https://www.zomato.com/SanchurroBangalore?cont...</td>\n",
       "      <td>1112, Next to KIMS Medical College, 17th Cross...</td>\n",
       "      <td>San Churro Cafe</td>\n",
       "      <td>Yes</td>\n",
       "      <td>No</td>\n",
       "      <td>3.8</td>\n",
       "      <td>918</td>\n",
       "      <td>Banashankari</td>\n",
       "      <td>Cafe, Casual Dining</td>\n",
       "      <td>Cafe, Mexican, Italian</td>\n",
       "      <td>800</td>\n",
       "      <td>[('Rated 3.0', \"RATED\\n  Ambience is not that ...</td>\n",
       "      <td>Buffet</td>\n",
       "      <td>Banashankari</td>\n",
       "    </tr>\n",
       "    <tr>\n",
       "      <th>3</th>\n",
       "      <td>https://www.zomato.com/bangalore/addhuri-udupi...</td>\n",
       "      <td>1st Floor, Annakuteera, 3rd Stage, Banashankar...</td>\n",
       "      <td>Addhuri Udupi Bhojana</td>\n",
       "      <td>No</td>\n",
       "      <td>No</td>\n",
       "      <td>3.7</td>\n",
       "      <td>88</td>\n",
       "      <td>Banashankari</td>\n",
       "      <td>Quick Bites</td>\n",
       "      <td>South Indian, North Indian</td>\n",
       "      <td>300</td>\n",
       "      <td>[('Rated 4.0', \"RATED\\n  Great food and proper...</td>\n",
       "      <td>Buffet</td>\n",
       "      <td>Banashankari</td>\n",
       "    </tr>\n",
       "    <tr>\n",
       "      <th>4</th>\n",
       "      <td>https://www.zomato.com/bangalore/grand-village...</td>\n",
       "      <td>10, 3rd Floor, Lakshmi Associates, Gandhi Baza...</td>\n",
       "      <td>Grand Village</td>\n",
       "      <td>No</td>\n",
       "      <td>No</td>\n",
       "      <td>3.8</td>\n",
       "      <td>166</td>\n",
       "      <td>Basavanagudi</td>\n",
       "      <td>Casual Dining</td>\n",
       "      <td>North Indian, Rajasthani</td>\n",
       "      <td>600</td>\n",
       "      <td>[('Rated 4.0', 'RATED\\n  Very good restaurant ...</td>\n",
       "      <td>Buffet</td>\n",
       "      <td>Banashankari</td>\n",
       "    </tr>\n",
       "  </tbody>\n",
       "</table>\n",
       "</div>"
      ],
      "text/plain": [
       "                                                 url  \\\n",
       "0  https://www.zomato.com/bangalore/jalsa-banasha...   \n",
       "1  https://www.zomato.com/bangalore/spice-elephan...   \n",
       "2  https://www.zomato.com/SanchurroBangalore?cont...   \n",
       "3  https://www.zomato.com/bangalore/addhuri-udupi...   \n",
       "4  https://www.zomato.com/bangalore/grand-village...   \n",
       "\n",
       "                                             address                   name  \\\n",
       "0  942, 21st Main Road, 2nd Stage, Banashankari, ...                  Jalsa   \n",
       "1  2nd Floor, 80 Feet Road, Near Big Bazaar, 6th ...         Spice Elephant   \n",
       "2  1112, Next to KIMS Medical College, 17th Cross...        San Churro Cafe   \n",
       "3  1st Floor, Annakuteera, 3rd Stage, Banashankar...  Addhuri Udupi Bhojana   \n",
       "4  10, 3rd Floor, Lakshmi Associates, Gandhi Baza...          Grand Village   \n",
       "\n",
       "  online_order book_table  rate  votes      location            rest_type  \\\n",
       "0          Yes        Yes   4.1    775  Banashankari        Casual Dining   \n",
       "1          Yes         No   4.1    787  Banashankari        Casual Dining   \n",
       "2          Yes         No   3.8    918  Banashankari  Cafe, Casual Dining   \n",
       "3           No         No   3.7     88  Banashankari          Quick Bites   \n",
       "4           No         No   3.8    166  Basavanagudi        Casual Dining   \n",
       "\n",
       "                         cuisines  cft  \\\n",
       "0  North Indian, Mughlai, Chinese  800   \n",
       "1     Chinese, North Indian, Thai  800   \n",
       "2          Cafe, Mexican, Italian  800   \n",
       "3      South Indian, North Indian  300   \n",
       "4        North Indian, Rajasthani  600   \n",
       "\n",
       "                                        reviews_list listed_in(type)  \\\n",
       "0  [('Rated 4.0', 'RATED\\n  A beautiful place to ...          Buffet   \n",
       "1  [('Rated 4.0', 'RATED\\n  Had been here for din...          Buffet   \n",
       "2  [('Rated 3.0', \"RATED\\n  Ambience is not that ...          Buffet   \n",
       "3  [('Rated 4.0', \"RATED\\n  Great food and proper...          Buffet   \n",
       "4  [('Rated 4.0', 'RATED\\n  Very good restaurant ...          Buffet   \n",
       "\n",
       "  listed_in(city)  \n",
       "0    Banashankari  \n",
       "1    Banashankari  \n",
       "2    Banashankari  \n",
       "3    Banashankari  \n",
       "4    Banashankari  "
      ]
     },
     "execution_count": 441,
     "metadata": {},
     "output_type": "execute_result"
    }
   ],
   "source": [
    "df.head()"
   ]
  },
  {
   "cell_type": "markdown",
   "id": "605b86b4",
   "metadata": {},
   "source": [
    "## changing something"
   ]
  },
  {
   "cell_type": "code",
   "execution_count": null,
   "id": "b6e381c8",
   "metadata": {},
   "outputs": [],
   "source": []
  }
 ],
 "metadata": {
  "kernelspec": {
   "display_name": "Python 3 (ipykernel)",
   "language": "python",
   "name": "python3"
  },
  "language_info": {
   "codemirror_mode": {
    "name": "ipython",
    "version": 3
   },
   "file_extension": ".py",
   "mimetype": "text/x-python",
   "name": "python",
   "nbconvert_exporter": "python",
   "pygments_lexer": "ipython3",
   "version": "3.10.7"
  }
 },
 "nbformat": 4,
 "nbformat_minor": 5
}
